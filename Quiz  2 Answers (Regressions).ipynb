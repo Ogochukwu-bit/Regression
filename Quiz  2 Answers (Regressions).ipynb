{
 "cells": [
  {
   "cell_type": "code",
   "execution_count": 1,
   "metadata": {},
   "outputs": [],
   "source": [
    "import numpy as np\n",
    "import pandas as pd\n",
    "import matplotlib.pyplot as plt \n",
    "import seaborn as sns"
   ]
  },
  {
   "cell_type": "code",
   "execution_count": 2,
   "metadata": {},
   "outputs": [
    {
     "data": {
      "text/plain": [
       "'C:\\\\Users\\\\elitebook 840'"
      ]
     },
     "execution_count": 2,
     "metadata": {},
     "output_type": "execute_result"
    }
   ],
   "source": [
    "pwd"
   ]
  },
  {
   "cell_type": "code",
   "execution_count": 3,
   "metadata": {},
   "outputs": [],
   "source": [
    "df = pd.read_csv(r'C:\\\\Users\\\\elitebook 840\\\\Desktop\\\\energydata_complete.csv')"
   ]
  },
  {
   "cell_type": "code",
   "execution_count": 4,
   "metadata": {},
   "outputs": [],
   "source": [
    "columns_names = {'T1':'Kitchen_temperature', 'RH_1':'kitchen_humidity',\n",
    "                'T2':'livingroom_temperature', 'RH_2':'livingroom_humidity',\n",
    "                'T3':'laundryroom_temperature', 'RH_3':'laundryroom_humidity',\n",
    "                'T4': 'officeroom_temperature', 'RH_4': 'officeroom_humidity', \n",
    "                'T5': 'bathroom_temperature', 'RH_5': 'bathroom_humidity', \n",
    "                'T6': 'outsidebuilding_temperature', 'RH_6':'outsidebuilding _humidity',\n",
    "                'T7': 'ironingroom_temperature', 'RH_7': 'ironingroom_humidity',\n",
    "                'T8': 'teenagerroom2_temperature', 'RH_8': 'teenagerroom2_humidity', \n",
    "                'T9': 'parentsroom_temperature', 'RH_9': 'parentsroom_humidity', \n",
    "                'T0': 'outside_temperature', \n",
    "                'Press_mm_hg':'Pressure_Chievers',  'RH_out': 'outside_humidity_Chievers', \n",
    "                 'Windspeed':'Wind_speed_Chievers', \n",
    "                 'Visibility':'Visibility_Chievers', \n",
    "                 'Tdewpoint':'Tdewpoint_Chievers',\n",
    "                'rv1': 'Random variable 1', 'rv2':'Random variable2'}"
   ]
  },
  {
   "cell_type": "code",
   "execution_count": 5,
   "metadata": {},
   "outputs": [],
   "source": [
    "df = df.rename(columns=columns_names)"
   ]
  },
  {
   "cell_type": "code",
   "execution_count": 6,
   "metadata": {},
   "outputs": [
    {
     "data": {
      "text/html": [
       "<div>\n",
       "<style scoped>\n",
       "    .dataframe tbody tr th:only-of-type {\n",
       "        vertical-align: middle;\n",
       "    }\n",
       "\n",
       "    .dataframe tbody tr th {\n",
       "        vertical-align: top;\n",
       "    }\n",
       "\n",
       "    .dataframe thead th {\n",
       "        text-align: right;\n",
       "    }\n",
       "</style>\n",
       "<table border=\"1\" class=\"dataframe\">\n",
       "  <thead>\n",
       "    <tr style=\"text-align: right;\">\n",
       "      <th></th>\n",
       "      <th>date</th>\n",
       "      <th>Appliances</th>\n",
       "      <th>lights</th>\n",
       "      <th>Kitchen_temperature</th>\n",
       "      <th>kitchen_humidity</th>\n",
       "      <th>livingroom_temperature</th>\n",
       "      <th>livingroom_humidity</th>\n",
       "      <th>laundryroom_temperature</th>\n",
       "      <th>laundryroom_humidity</th>\n",
       "      <th>officeroom_temperature</th>\n",
       "      <th>...</th>\n",
       "      <th>parentsroom_temperature</th>\n",
       "      <th>parentsroom_humidity</th>\n",
       "      <th>T_out</th>\n",
       "      <th>Pressure_Chievers</th>\n",
       "      <th>outside_humidity_Chievers</th>\n",
       "      <th>Wind_speed_Chievers</th>\n",
       "      <th>Visibility_Chievers</th>\n",
       "      <th>Tdewpoint_Chievers</th>\n",
       "      <th>Random variable 1</th>\n",
       "      <th>Random variable2</th>\n",
       "    </tr>\n",
       "  </thead>\n",
       "  <tbody>\n",
       "    <tr>\n",
       "      <th>count</th>\n",
       "      <td>19735</td>\n",
       "      <td>19735.000000</td>\n",
       "      <td>19735.000000</td>\n",
       "      <td>19735.000000</td>\n",
       "      <td>19735.000000</td>\n",
       "      <td>19735.000000</td>\n",
       "      <td>19735.000000</td>\n",
       "      <td>19735.000000</td>\n",
       "      <td>19735.000000</td>\n",
       "      <td>19735.000000</td>\n",
       "      <td>...</td>\n",
       "      <td>19735.000000</td>\n",
       "      <td>19735.000000</td>\n",
       "      <td>19735.000000</td>\n",
       "      <td>19735.000000</td>\n",
       "      <td>19735.000000</td>\n",
       "      <td>19735.000000</td>\n",
       "      <td>19735.000000</td>\n",
       "      <td>19735.000000</td>\n",
       "      <td>19735.000000</td>\n",
       "      <td>19735.000000</td>\n",
       "    </tr>\n",
       "    <tr>\n",
       "      <th>unique</th>\n",
       "      <td>19735</td>\n",
       "      <td>NaN</td>\n",
       "      <td>NaN</td>\n",
       "      <td>NaN</td>\n",
       "      <td>NaN</td>\n",
       "      <td>NaN</td>\n",
       "      <td>NaN</td>\n",
       "      <td>NaN</td>\n",
       "      <td>NaN</td>\n",
       "      <td>NaN</td>\n",
       "      <td>...</td>\n",
       "      <td>NaN</td>\n",
       "      <td>NaN</td>\n",
       "      <td>NaN</td>\n",
       "      <td>NaN</td>\n",
       "      <td>NaN</td>\n",
       "      <td>NaN</td>\n",
       "      <td>NaN</td>\n",
       "      <td>NaN</td>\n",
       "      <td>NaN</td>\n",
       "      <td>NaN</td>\n",
       "    </tr>\n",
       "    <tr>\n",
       "      <th>top</th>\n",
       "      <td>2016-03-12 01:20:00</td>\n",
       "      <td>NaN</td>\n",
       "      <td>NaN</td>\n",
       "      <td>NaN</td>\n",
       "      <td>NaN</td>\n",
       "      <td>NaN</td>\n",
       "      <td>NaN</td>\n",
       "      <td>NaN</td>\n",
       "      <td>NaN</td>\n",
       "      <td>NaN</td>\n",
       "      <td>...</td>\n",
       "      <td>NaN</td>\n",
       "      <td>NaN</td>\n",
       "      <td>NaN</td>\n",
       "      <td>NaN</td>\n",
       "      <td>NaN</td>\n",
       "      <td>NaN</td>\n",
       "      <td>NaN</td>\n",
       "      <td>NaN</td>\n",
       "      <td>NaN</td>\n",
       "      <td>NaN</td>\n",
       "    </tr>\n",
       "    <tr>\n",
       "      <th>freq</th>\n",
       "      <td>1</td>\n",
       "      <td>NaN</td>\n",
       "      <td>NaN</td>\n",
       "      <td>NaN</td>\n",
       "      <td>NaN</td>\n",
       "      <td>NaN</td>\n",
       "      <td>NaN</td>\n",
       "      <td>NaN</td>\n",
       "      <td>NaN</td>\n",
       "      <td>NaN</td>\n",
       "      <td>...</td>\n",
       "      <td>NaN</td>\n",
       "      <td>NaN</td>\n",
       "      <td>NaN</td>\n",
       "      <td>NaN</td>\n",
       "      <td>NaN</td>\n",
       "      <td>NaN</td>\n",
       "      <td>NaN</td>\n",
       "      <td>NaN</td>\n",
       "      <td>NaN</td>\n",
       "      <td>NaN</td>\n",
       "    </tr>\n",
       "    <tr>\n",
       "      <th>mean</th>\n",
       "      <td>NaN</td>\n",
       "      <td>97.694958</td>\n",
       "      <td>3.801875</td>\n",
       "      <td>21.686571</td>\n",
       "      <td>40.259739</td>\n",
       "      <td>20.341219</td>\n",
       "      <td>40.420420</td>\n",
       "      <td>22.267611</td>\n",
       "      <td>39.242500</td>\n",
       "      <td>20.855335</td>\n",
       "      <td>...</td>\n",
       "      <td>19.485828</td>\n",
       "      <td>41.552401</td>\n",
       "      <td>7.411665</td>\n",
       "      <td>755.522602</td>\n",
       "      <td>79.750418</td>\n",
       "      <td>4.039752</td>\n",
       "      <td>38.330834</td>\n",
       "      <td>3.760707</td>\n",
       "      <td>24.988033</td>\n",
       "      <td>24.988033</td>\n",
       "    </tr>\n",
       "    <tr>\n",
       "      <th>std</th>\n",
       "      <td>NaN</td>\n",
       "      <td>102.524891</td>\n",
       "      <td>7.935988</td>\n",
       "      <td>1.606066</td>\n",
       "      <td>3.979299</td>\n",
       "      <td>2.192974</td>\n",
       "      <td>4.069813</td>\n",
       "      <td>2.006111</td>\n",
       "      <td>3.254576</td>\n",
       "      <td>2.042884</td>\n",
       "      <td>...</td>\n",
       "      <td>2.014712</td>\n",
       "      <td>4.151497</td>\n",
       "      <td>5.317409</td>\n",
       "      <td>7.399441</td>\n",
       "      <td>14.901088</td>\n",
       "      <td>2.451221</td>\n",
       "      <td>11.794719</td>\n",
       "      <td>4.194648</td>\n",
       "      <td>14.496634</td>\n",
       "      <td>14.496634</td>\n",
       "    </tr>\n",
       "    <tr>\n",
       "      <th>min</th>\n",
       "      <td>NaN</td>\n",
       "      <td>10.000000</td>\n",
       "      <td>0.000000</td>\n",
       "      <td>16.790000</td>\n",
       "      <td>27.023333</td>\n",
       "      <td>16.100000</td>\n",
       "      <td>20.463333</td>\n",
       "      <td>17.200000</td>\n",
       "      <td>28.766667</td>\n",
       "      <td>15.100000</td>\n",
       "      <td>...</td>\n",
       "      <td>14.890000</td>\n",
       "      <td>29.166667</td>\n",
       "      <td>-5.000000</td>\n",
       "      <td>729.300000</td>\n",
       "      <td>24.000000</td>\n",
       "      <td>0.000000</td>\n",
       "      <td>1.000000</td>\n",
       "      <td>-6.600000</td>\n",
       "      <td>0.005322</td>\n",
       "      <td>0.005322</td>\n",
       "    </tr>\n",
       "    <tr>\n",
       "      <th>25%</th>\n",
       "      <td>NaN</td>\n",
       "      <td>50.000000</td>\n",
       "      <td>0.000000</td>\n",
       "      <td>20.760000</td>\n",
       "      <td>37.333333</td>\n",
       "      <td>18.790000</td>\n",
       "      <td>37.900000</td>\n",
       "      <td>20.790000</td>\n",
       "      <td>36.900000</td>\n",
       "      <td>19.530000</td>\n",
       "      <td>...</td>\n",
       "      <td>18.000000</td>\n",
       "      <td>38.500000</td>\n",
       "      <td>3.666667</td>\n",
       "      <td>750.933333</td>\n",
       "      <td>70.333333</td>\n",
       "      <td>2.000000</td>\n",
       "      <td>29.000000</td>\n",
       "      <td>0.900000</td>\n",
       "      <td>12.497889</td>\n",
       "      <td>12.497889</td>\n",
       "    </tr>\n",
       "    <tr>\n",
       "      <th>50%</th>\n",
       "      <td>NaN</td>\n",
       "      <td>60.000000</td>\n",
       "      <td>0.000000</td>\n",
       "      <td>21.600000</td>\n",
       "      <td>39.656667</td>\n",
       "      <td>20.000000</td>\n",
       "      <td>40.500000</td>\n",
       "      <td>22.100000</td>\n",
       "      <td>38.530000</td>\n",
       "      <td>20.666667</td>\n",
       "      <td>...</td>\n",
       "      <td>19.390000</td>\n",
       "      <td>40.900000</td>\n",
       "      <td>6.916667</td>\n",
       "      <td>756.100000</td>\n",
       "      <td>83.666667</td>\n",
       "      <td>3.666667</td>\n",
       "      <td>40.000000</td>\n",
       "      <td>3.433333</td>\n",
       "      <td>24.897653</td>\n",
       "      <td>24.897653</td>\n",
       "    </tr>\n",
       "    <tr>\n",
       "      <th>75%</th>\n",
       "      <td>NaN</td>\n",
       "      <td>100.000000</td>\n",
       "      <td>0.000000</td>\n",
       "      <td>22.600000</td>\n",
       "      <td>43.066667</td>\n",
       "      <td>21.500000</td>\n",
       "      <td>43.260000</td>\n",
       "      <td>23.290000</td>\n",
       "      <td>41.760000</td>\n",
       "      <td>22.100000</td>\n",
       "      <td>...</td>\n",
       "      <td>20.600000</td>\n",
       "      <td>44.338095</td>\n",
       "      <td>10.408333</td>\n",
       "      <td>760.933333</td>\n",
       "      <td>91.666667</td>\n",
       "      <td>5.500000</td>\n",
       "      <td>40.000000</td>\n",
       "      <td>6.566667</td>\n",
       "      <td>37.583769</td>\n",
       "      <td>37.583769</td>\n",
       "    </tr>\n",
       "    <tr>\n",
       "      <th>max</th>\n",
       "      <td>NaN</td>\n",
       "      <td>1080.000000</td>\n",
       "      <td>70.000000</td>\n",
       "      <td>26.260000</td>\n",
       "      <td>63.360000</td>\n",
       "      <td>29.856667</td>\n",
       "      <td>56.026667</td>\n",
       "      <td>29.236000</td>\n",
       "      <td>50.163333</td>\n",
       "      <td>26.200000</td>\n",
       "      <td>...</td>\n",
       "      <td>24.500000</td>\n",
       "      <td>53.326667</td>\n",
       "      <td>26.100000</td>\n",
       "      <td>772.300000</td>\n",
       "      <td>100.000000</td>\n",
       "      <td>14.000000</td>\n",
       "      <td>66.000000</td>\n",
       "      <td>15.500000</td>\n",
       "      <td>49.996530</td>\n",
       "      <td>49.996530</td>\n",
       "    </tr>\n",
       "  </tbody>\n",
       "</table>\n",
       "<p>11 rows × 29 columns</p>\n",
       "</div>"
      ],
      "text/plain": [
       "                       date    Appliances        lights  Kitchen_temperature  \\\n",
       "count                 19735  19735.000000  19735.000000         19735.000000   \n",
       "unique                19735           NaN           NaN                  NaN   \n",
       "top     2016-03-12 01:20:00           NaN           NaN                  NaN   \n",
       "freq                      1           NaN           NaN                  NaN   \n",
       "mean                    NaN     97.694958      3.801875            21.686571   \n",
       "std                     NaN    102.524891      7.935988             1.606066   \n",
       "min                     NaN     10.000000      0.000000            16.790000   \n",
       "25%                     NaN     50.000000      0.000000            20.760000   \n",
       "50%                     NaN     60.000000      0.000000            21.600000   \n",
       "75%                     NaN    100.000000      0.000000            22.600000   \n",
       "max                     NaN   1080.000000     70.000000            26.260000   \n",
       "\n",
       "        kitchen_humidity  livingroom_temperature  livingroom_humidity  \\\n",
       "count       19735.000000            19735.000000         19735.000000   \n",
       "unique               NaN                     NaN                  NaN   \n",
       "top                  NaN                     NaN                  NaN   \n",
       "freq                 NaN                     NaN                  NaN   \n",
       "mean           40.259739               20.341219            40.420420   \n",
       "std             3.979299                2.192974             4.069813   \n",
       "min            27.023333               16.100000            20.463333   \n",
       "25%            37.333333               18.790000            37.900000   \n",
       "50%            39.656667               20.000000            40.500000   \n",
       "75%            43.066667               21.500000            43.260000   \n",
       "max            63.360000               29.856667            56.026667   \n",
       "\n",
       "        laundryroom_temperature  laundryroom_humidity  officeroom_temperature  \\\n",
       "count              19735.000000          19735.000000            19735.000000   \n",
       "unique                      NaN                   NaN                     NaN   \n",
       "top                         NaN                   NaN                     NaN   \n",
       "freq                        NaN                   NaN                     NaN   \n",
       "mean                  22.267611             39.242500               20.855335   \n",
       "std                    2.006111              3.254576                2.042884   \n",
       "min                   17.200000             28.766667               15.100000   \n",
       "25%                   20.790000             36.900000               19.530000   \n",
       "50%                   22.100000             38.530000               20.666667   \n",
       "75%                   23.290000             41.760000               22.100000   \n",
       "max                   29.236000             50.163333               26.200000   \n",
       "\n",
       "        ...  parentsroom_temperature  parentsroom_humidity         T_out  \\\n",
       "count   ...             19735.000000          19735.000000  19735.000000   \n",
       "unique  ...                      NaN                   NaN           NaN   \n",
       "top     ...                      NaN                   NaN           NaN   \n",
       "freq    ...                      NaN                   NaN           NaN   \n",
       "mean    ...                19.485828             41.552401      7.411665   \n",
       "std     ...                 2.014712              4.151497      5.317409   \n",
       "min     ...                14.890000             29.166667     -5.000000   \n",
       "25%     ...                18.000000             38.500000      3.666667   \n",
       "50%     ...                19.390000             40.900000      6.916667   \n",
       "75%     ...                20.600000             44.338095     10.408333   \n",
       "max     ...                24.500000             53.326667     26.100000   \n",
       "\n",
       "        Pressure_Chievers  outside_humidity_Chievers  Wind_speed_Chievers  \\\n",
       "count        19735.000000               19735.000000         19735.000000   \n",
       "unique                NaN                        NaN                  NaN   \n",
       "top                   NaN                        NaN                  NaN   \n",
       "freq                  NaN                        NaN                  NaN   \n",
       "mean           755.522602                  79.750418             4.039752   \n",
       "std              7.399441                  14.901088             2.451221   \n",
       "min            729.300000                  24.000000             0.000000   \n",
       "25%            750.933333                  70.333333             2.000000   \n",
       "50%            756.100000                  83.666667             3.666667   \n",
       "75%            760.933333                  91.666667             5.500000   \n",
       "max            772.300000                 100.000000            14.000000   \n",
       "\n",
       "        Visibility_Chievers  Tdewpoint_Chievers  Random variable 1  \\\n",
       "count          19735.000000        19735.000000       19735.000000   \n",
       "unique                  NaN                 NaN                NaN   \n",
       "top                     NaN                 NaN                NaN   \n",
       "freq                    NaN                 NaN                NaN   \n",
       "mean              38.330834            3.760707          24.988033   \n",
       "std               11.794719            4.194648          14.496634   \n",
       "min                1.000000           -6.600000           0.005322   \n",
       "25%               29.000000            0.900000          12.497889   \n",
       "50%               40.000000            3.433333          24.897653   \n",
       "75%               40.000000            6.566667          37.583769   \n",
       "max               66.000000           15.500000          49.996530   \n",
       "\n",
       "        Random variable2  \n",
       "count       19735.000000  \n",
       "unique               NaN  \n",
       "top                  NaN  \n",
       "freq                 NaN  \n",
       "mean           24.988033  \n",
       "std            14.496634  \n",
       "min             0.005322  \n",
       "25%            12.497889  \n",
       "50%            24.897653  \n",
       "75%            37.583769  \n",
       "max            49.996530  \n",
       "\n",
       "[11 rows x 29 columns]"
      ]
     },
     "execution_count": 6,
     "metadata": {},
     "output_type": "execute_result"
    }
   ],
   "source": [
    "df.describe(include='all')"
   ]
  },
  {
   "cell_type": "code",
   "execution_count": 7,
   "metadata": {},
   "outputs": [],
   "source": [
    "#INSRUCTIONS"
   ]
  },
  {
   "cell_type": "code",
   "execution_count": 8,
   "metadata": {},
   "outputs": [],
   "source": [
    "df.drop(['date'],axis=1,inplace=True)"
   ]
  },
  {
   "cell_type": "code",
   "execution_count": 9,
   "metadata": {},
   "outputs": [],
   "source": [
    "df.drop(['lights'],axis=1,inplace=True)"
   ]
  },
  {
   "cell_type": "code",
   "execution_count": 10,
   "metadata": {},
   "outputs": [],
   "source": [
    "from sklearn.preprocessing import MinMaxScaler\n",
    "scaler = MinMaxScaler()"
   ]
  },
  {
   "cell_type": "code",
   "execution_count": 11,
   "metadata": {},
   "outputs": [],
   "source": [
    "normalised_df = pd.DataFrame(scaler.fit_transform(df), columns=df.columns)\n",
    "features_df = normalised_df.drop(columns=['Random variable 1', 'Random variable2'])\n",
    "heating_target = normalised_df['Random variable 1']"
   ]
  },
  {
   "cell_type": "code",
   "execution_count": 12,
   "metadata": {},
   "outputs": [],
   "source": [
    "from sklearn.model_selection import train_test_split\n",
    "x_train, x_test, y_train, y_test = train_test_split(features_df, heating_target, test_size=0.3, random_state=42)"
   ]
  },
  {
   "cell_type": "code",
   "execution_count": 13,
   "metadata": {},
   "outputs": [],
   "source": [
    "from sklearn.linear_model import LinearRegression"
   ]
  },
  {
   "cell_type": "code",
   "execution_count": 14,
   "metadata": {},
   "outputs": [],
   "source": [
    "reg = LinearRegression()"
   ]
  },
  {
   "cell_type": "code",
   "execution_count": 15,
   "metadata": {},
   "outputs": [
    {
     "data": {
      "text/plain": [
       "LinearRegression(copy_X=True, fit_intercept=True, n_jobs=None, normalize=False)"
      ]
     },
     "execution_count": 15,
     "metadata": {},
     "output_type": "execute_result"
    }
   ],
   "source": [
    "linear_model = LinearRegression()\n",
    "linear_model.fit(x_train, y_train)"
   ]
  },
  {
   "cell_type": "code",
   "execution_count": 16,
   "metadata": {},
   "outputs": [],
   "source": [
    "predicted_values = linear_model.predict(x_test)"
   ]
  },
  {
   "cell_type": "code",
   "execution_count": 17,
   "metadata": {},
   "outputs": [
    {
     "data": {
      "text/plain": [
       "LinearRegression(copy_X=True, fit_intercept=True, n_jobs=None, normalize=False)"
      ]
     },
     "execution_count": 17,
     "metadata": {},
     "output_type": "execute_result"
    }
   ],
   "source": [
    "reg = LinearRegression()\n",
    "reg.fit(df[['Appliances', 'Kitchen_temperature']], df[['Random variable 1']])"
   ]
  },
  {
   "cell_type": "code",
   "execution_count": 18,
   "metadata": {},
   "outputs": [
    {
     "data": {
      "text/plain": [
       "array([[-0.00153193, -0.05056719]])"
      ]
     },
     "execution_count": 18,
     "metadata": {},
     "output_type": "execute_result"
    }
   ],
   "source": [
    "reg.coef_"
   ]
  },
  {
   "cell_type": "code",
   "execution_count": 19,
   "metadata": {},
   "outputs": [
    {
     "data": {
      "text/plain": [
       "array([26.23432399])"
      ]
     },
     "execution_count": 19,
     "metadata": {},
     "output_type": "execute_result"
    }
   ],
   "source": [
    "reg.intercept_"
   ]
  },
  {
   "cell_type": "code",
   "execution_count": 20,
   "metadata": {},
   "outputs": [
    {
     "data": {
      "text/plain": [
       "-0.0"
      ]
     },
     "execution_count": 20,
     "metadata": {},
     "output_type": "execute_result"
    }
   ],
   "source": [
    "from sklearn.metrics import r2_score\n",
    "r2_score = r2_score(y_test, predicted_values)\n",
    "round(r2_score,2)"
   ]
  },
  {
   "cell_type": "code",
   "execution_count": 21,
   "metadata": {},
   "outputs": [
    {
     "data": {
      "text/plain": [
       "<matplotlib.axes._subplots.AxesSubplot at 0x167d36cf408>"
      ]
     },
     "execution_count": 21,
     "metadata": {},
     "output_type": "execute_result"
    },
    {
     "data": {
      "image/png": "[encoded data removed]",
      "text/plain": [
       "<Figure size 432x288 with 1 Axes>"
      ]
     },
     "metadata": {
      "needs_background": "light"
     },
     "output_type": "display_data"
    }
   ],
   "source": [
    "simple_linear_reg_df = df[['livingroom_temperature', 'outsidebuilding_temperature']].sample(20,random_state=2)\n",
    "sns.regplot(x=\"livingroom_temperature\", y=\"outsidebuilding_temperature\" ,data=simple_linear_reg_df)"
   ]
  },
  {
   "cell_type": "code",
   "execution_count": 22,
   "metadata": {},
   "outputs": [
    {
     "ename": "SyntaxError",
     "evalue": "invalid syntax (<ipython-input-22-772353bf519e>, line 1)",
     "output_type": "error",
     "traceback": [
      "\u001b[1;36m  File \u001b[1;32m\"<ipython-input-22-772353bf519e>\"\u001b[1;36m, line \u001b[1;32m1\u001b[0m\n\u001b[1;33m    Q.12\u001b[0m\n\u001b[1;37m       ^\u001b[0m\n\u001b[1;31mSyntaxError\u001b[0m\u001b[1;31m:\u001b[0m invalid syntax\n"
     ]
    }
   ],
   "source": [
    "Q.12"
   ]
  },
  {
   "cell_type": "code",
   "execution_count": 23,
   "metadata": {},
   "outputs": [
    {
     "data": {
      "text/plain": [
       "-0.0"
      ]
     },
     "execution_count": 23,
     "metadata": {},
     "output_type": "execute_result"
    }
   ],
   "source": [
    "from sklearn.metrics import r2_score\n",
    "r2_score = r2_score(y_test, predicted_values)\n",
    "round(r2_score,2)"
   ]
  },
  {
   "cell_type": "code",
   "execution_count": 24,
   "metadata": {},
   "outputs": [
    {
     "ename": "SyntaxError",
     "evalue": "invalid syntax (<ipython-input-24-d9d3a5f828f3>, line 1)",
     "output_type": "error",
     "traceback": [
      "\u001b[1;36m  File \u001b[1;32m\"<ipython-input-24-d9d3a5f828f3>\"\u001b[1;36m, line \u001b[1;32m1\u001b[0m\n\u001b[1;33m    Q.13\u001b[0m\n\u001b[1;37m       ^\u001b[0m\n\u001b[1;31mSyntaxError\u001b[0m\u001b[1;31m:\u001b[0m invalid syntax\n"
     ]
    }
   ],
   "source": [
    "Q.13"
   ]
  },
  {
   "cell_type": "code",
   "execution_count": 25,
   "metadata": {},
   "outputs": [
    {
     "data": {
      "text/plain": [
       "0.25"
      ]
     },
     "execution_count": 25,
     "metadata": {},
     "output_type": "execute_result"
    }
   ],
   "source": [
    "from sklearn.metrics import mean_absolute_error\n",
    "mae = mean_absolute_error(y_test, predicted_values)\n",
    "round(mae,2)"
   ]
  },
  {
   "cell_type": "code",
   "execution_count": 26,
   "metadata": {},
   "outputs": [
    {
     "ename": "SyntaxError",
     "evalue": "invalid syntax (<ipython-input-26-83cb73607948>, line 1)",
     "output_type": "error",
     "traceback": [
      "\u001b[1;36m  File \u001b[1;32m\"<ipython-input-26-83cb73607948>\"\u001b[1;36m, line \u001b[1;32m1\u001b[0m\n\u001b[1;33m    Q.14\u001b[0m\n\u001b[1;37m       ^\u001b[0m\n\u001b[1;31mSyntaxError\u001b[0m\u001b[1;31m:\u001b[0m invalid syntax\n"
     ]
    }
   ],
   "source": [
    "Q.14"
   ]
  },
  {
   "cell_type": "code",
   "execution_count": 27,
   "metadata": {},
   "outputs": [
    {
     "data": {
      "text/plain": [
       "497.19"
      ]
     },
     "execution_count": 27,
     "metadata": {},
     "output_type": "execute_result"
    }
   ],
   "source": [
    "import numpy as np\n",
    "rss = np.sum(np.square(y_test - predicted_values))\n",
    "round(rss, 2)"
   ]
  },
  {
   "cell_type": "code",
   "execution_count": 28,
   "metadata": {},
   "outputs": [
    {
     "ename": "SyntaxError",
     "evalue": "invalid syntax (<ipython-input-28-9256748cd3ae>, line 1)",
     "output_type": "error",
     "traceback": [
      "\u001b[1;36m  File \u001b[1;32m\"<ipython-input-28-9256748cd3ae>\"\u001b[1;36m, line \u001b[1;32m1\u001b[0m\n\u001b[1;33m    Q.15\u001b[0m\n\u001b[1;37m       ^\u001b[0m\n\u001b[1;31mSyntaxError\u001b[0m\u001b[1;31m:\u001b[0m invalid syntax\n"
     ]
    }
   ],
   "source": [
    "Q.15"
   ]
  },
  {
   "cell_type": "code",
   "execution_count": 29,
   "metadata": {},
   "outputs": [
    {
     "data": {
      "text/plain": [
       "0.29"
      ]
     },
     "execution_count": 29,
     "metadata": {},
     "output_type": "execute_result"
    }
   ],
   "source": [
    "from sklearn.metrics import mean_squared_error\n",
    "rmse = np.sqrt(mean_squared_error(y_test, predicted_values))\n",
    "round(rmse, 3)"
   ]
  },
  {
   "cell_type": "markdown",
   "metadata": {},
   "source": [
    "# Q.16\n",
    "#the coefficient of Determination is the same with R-squared method, which is -0.0"
   ]
  },
  {
   "cell_type": "code",
   "execution_count": 30,
   "metadata": {},
   "outputs": [],
   "source": [
    "def get_weights_df(model, feat, col_name):   \n",
    "    weights = pd.Series(model.coef_, feat.columns).sort_values()\n",
    "    weights_df = pd.DataFrame(weights).reset_index()\n",
    "    weights_df.columns = ['Features', col_name]\n",
    "    weights_df[col_name].round(3)\n",
    "    return weights_df"
   ]
  },
  {
   "cell_type": "code",
   "execution_count": 31,
   "metadata": {},
   "outputs": [
    {
     "data": {
      "text/plain": [
       "Lasso(alpha=0.001, copy_X=True, fit_intercept=True, max_iter=1000,\n",
       "      normalize=False, positive=False, precompute=False, random_state=None,\n",
       "      selection='cyclic', tol=0.0001, warm_start=False)"
      ]
     },
     "execution_count": 31,
     "metadata": {},
     "output_type": "execute_result"
    }
   ],
   "source": [
    "from sklearn.linear_model import Lasso\n",
    "\n",
    "lasso_reg = Lasso(alpha=0.001)\n",
    "lasso_reg.fit(x_train, y_train)"
   ]
  },
  {
   "cell_type": "code",
   "execution_count": 32,
   "metadata": {},
   "outputs": [
    {
     "data": {
      "text/plain": [
       "Ridge(alpha=0.5, copy_X=True, fit_intercept=True, max_iter=None,\n",
       "      normalize=False, random_state=None, solver='auto', tol=0.001)"
      ]
     },
     "execution_count": 32,
     "metadata": {},
     "output_type": "execute_result"
    }
   ],
   "source": [
    "from sklearn.linear_model import Ridge\n",
    "\n",
    "ridge_reg = Ridge(0.5)\n",
    "ridge_reg.fit(x_train, y_train)"
   ]
  },
  {
   "cell_type": "code",
   "execution_count": 33,
   "metadata": {},
   "outputs": [
    {
     "data": {
      "text/html": [
       "<div>\n",
       "<style scoped>\n",
       "    .dataframe tbody tr th:only-of-type {\n",
       "        vertical-align: middle;\n",
       "    }\n",
       "\n",
       "    .dataframe tbody tr th {\n",
       "        vertical-align: top;\n",
       "    }\n",
       "\n",
       "    .dataframe thead th {\n",
       "        text-align: right;\n",
       "    }\n",
       "</style>\n",
       "<table border=\"1\" class=\"dataframe\">\n",
       "  <thead>\n",
       "    <tr style=\"text-align: right;\">\n",
       "      <th></th>\n",
       "      <th>Features</th>\n",
       "      <th>Linear_Model_Weight</th>\n",
       "      <th>Ridge_Weight</th>\n",
       "      <th>Lasso_Weight</th>\n",
       "    </tr>\n",
       "  </thead>\n",
       "  <tbody>\n",
       "    <tr>\n",
       "      <th>0</th>\n",
       "      <td>Tdewpoint_Chievers</td>\n",
       "      <td>-0.077631</td>\n",
       "      <td>-0.059678</td>\n",
       "      <td>0.000000</td>\n",
       "    </tr>\n",
       "    <tr>\n",
       "      <th>1</th>\n",
       "      <td>parentsroom_humidity</td>\n",
       "      <td>-0.050589</td>\n",
       "      <td>-0.049626</td>\n",
       "      <td>0.000000</td>\n",
       "    </tr>\n",
       "    <tr>\n",
       "      <th>2</th>\n",
       "      <td>bathroom_temperature</td>\n",
       "      <td>-0.043675</td>\n",
       "      <td>-0.041542</td>\n",
       "      <td>-0.000000</td>\n",
       "    </tr>\n",
       "    <tr>\n",
       "      <th>3</th>\n",
       "      <td>laundryroom_temperature</td>\n",
       "      <td>-0.041190</td>\n",
       "      <td>-0.040893</td>\n",
       "      <td>-0.000000</td>\n",
       "    </tr>\n",
       "    <tr>\n",
       "      <th>4</th>\n",
       "      <td>outsidebuilding_temperature</td>\n",
       "      <td>-0.040702</td>\n",
       "      <td>-0.034333</td>\n",
       "      <td>-0.000000</td>\n",
       "    </tr>\n",
       "    <tr>\n",
       "      <th>5</th>\n",
       "      <td>laundryroom_humidity</td>\n",
       "      <td>-0.040586</td>\n",
       "      <td>-0.039134</td>\n",
       "      <td>0.000000</td>\n",
       "    </tr>\n",
       "    <tr>\n",
       "      <th>6</th>\n",
       "      <td>bathroom_humidity</td>\n",
       "      <td>-0.040395</td>\n",
       "      <td>-0.040454</td>\n",
       "      <td>-0.000000</td>\n",
       "    </tr>\n",
       "    <tr>\n",
       "      <th>7</th>\n",
       "      <td>Kitchen_temperature</td>\n",
       "      <td>-0.039450</td>\n",
       "      <td>-0.035026</td>\n",
       "      <td>-0.000000</td>\n",
       "    </tr>\n",
       "    <tr>\n",
       "      <th>8</th>\n",
       "      <td>kitchen_humidity</td>\n",
       "      <td>-0.038484</td>\n",
       "      <td>-0.032336</td>\n",
       "      <td>0.000000</td>\n",
       "    </tr>\n",
       "    <tr>\n",
       "      <th>9</th>\n",
       "      <td>teenagerroom2_temperature</td>\n",
       "      <td>-0.034503</td>\n",
       "      <td>-0.034323</td>\n",
       "      <td>-0.000000</td>\n",
       "    </tr>\n",
       "    <tr>\n",
       "      <th>10</th>\n",
       "      <td>Visibility_Chievers</td>\n",
       "      <td>-0.011785</td>\n",
       "      <td>-0.011685</td>\n",
       "      <td>-0.000000</td>\n",
       "    </tr>\n",
       "    <tr>\n",
       "      <th>11</th>\n",
       "      <td>Wind_speed_Chievers</td>\n",
       "      <td>0.005453</td>\n",
       "      <td>0.004834</td>\n",
       "      <td>-0.000000</td>\n",
       "    </tr>\n",
       "    <tr>\n",
       "      <th>12</th>\n",
       "      <td>Pressure_Chievers</td>\n",
       "      <td>0.008542</td>\n",
       "      <td>0.008483</td>\n",
       "      <td>0.000000</td>\n",
       "    </tr>\n",
       "    <tr>\n",
       "      <th>13</th>\n",
       "      <td>teenagerroom2_humidity</td>\n",
       "      <td>0.014721</td>\n",
       "      <td>0.014675</td>\n",
       "      <td>0.000000</td>\n",
       "    </tr>\n",
       "    <tr>\n",
       "      <th>14</th>\n",
       "      <td>Appliances</td>\n",
       "      <td>0.016353</td>\n",
       "      <td>0.015661</td>\n",
       "      <td>-0.000000</td>\n",
       "    </tr>\n",
       "    <tr>\n",
       "      <th>15</th>\n",
       "      <td>outsidebuilding _humidity</td>\n",
       "      <td>0.027540</td>\n",
       "      <td>0.028513</td>\n",
       "      <td>0.005276</td>\n",
       "    </tr>\n",
       "    <tr>\n",
       "      <th>16</th>\n",
       "      <td>officeroom_humidity</td>\n",
       "      <td>0.028365</td>\n",
       "      <td>0.027785</td>\n",
       "      <td>0.000000</td>\n",
       "    </tr>\n",
       "    <tr>\n",
       "      <th>17</th>\n",
       "      <td>ironingroom_humidity</td>\n",
       "      <td>0.032419</td>\n",
       "      <td>0.032362</td>\n",
       "      <td>0.000000</td>\n",
       "    </tr>\n",
       "    <tr>\n",
       "      <th>18</th>\n",
       "      <td>ironingroom_temperature</td>\n",
       "      <td>0.033267</td>\n",
       "      <td>0.032998</td>\n",
       "      <td>0.000000</td>\n",
       "    </tr>\n",
       "    <tr>\n",
       "      <th>19</th>\n",
       "      <td>parentsroom_temperature</td>\n",
       "      <td>0.051975</td>\n",
       "      <td>0.051370</td>\n",
       "      <td>0.000000</td>\n",
       "    </tr>\n",
       "    <tr>\n",
       "      <th>20</th>\n",
       "      <td>officeroom_temperature</td>\n",
       "      <td>0.054198</td>\n",
       "      <td>0.053945</td>\n",
       "      <td>0.000000</td>\n",
       "    </tr>\n",
       "    <tr>\n",
       "      <th>21</th>\n",
       "      <td>outside_humidity_Chievers</td>\n",
       "      <td>0.070894</td>\n",
       "      <td>0.058466</td>\n",
       "      <td>0.008385</td>\n",
       "    </tr>\n",
       "    <tr>\n",
       "      <th>22</th>\n",
       "      <td>livingroom_humidity</td>\n",
       "      <td>0.079499</td>\n",
       "      <td>0.068902</td>\n",
       "      <td>0.000000</td>\n",
       "    </tr>\n",
       "    <tr>\n",
       "      <th>23</th>\n",
       "      <td>livingroom_temperature</td>\n",
       "      <td>0.083595</td>\n",
       "      <td>0.075024</td>\n",
       "      <td>-0.000000</td>\n",
       "    </tr>\n",
       "    <tr>\n",
       "      <th>24</th>\n",
       "      <td>T_out</td>\n",
       "      <td>0.097319</td>\n",
       "      <td>0.069372</td>\n",
       "      <td>-0.000000</td>\n",
       "    </tr>\n",
       "  </tbody>\n",
       "</table>\n",
       "</div>"
      ],
      "text/plain": [
       "                       Features  Linear_Model_Weight  Ridge_Weight  \\\n",
       "0            Tdewpoint_Chievers            -0.077631     -0.059678   \n",
       "1          parentsroom_humidity            -0.050589     -0.049626   \n",
       "2          bathroom_temperature            -0.043675     -0.041542   \n",
       "3       laundryroom_temperature            -0.041190     -0.040893   \n",
       "4   outsidebuilding_temperature            -0.040702     -0.034333   \n",
       "5          laundryroom_humidity            -0.040586     -0.039134   \n",
       "6             bathroom_humidity            -0.040395     -0.040454   \n",
       "7           Kitchen_temperature            -0.039450     -0.035026   \n",
       "8              kitchen_humidity            -0.038484     -0.032336   \n",
       "9     teenagerroom2_temperature            -0.034503     -0.034323   \n",
       "10          Visibility_Chievers            -0.011785     -0.011685   \n",
       "11          Wind_speed_Chievers             0.005453      0.004834   \n",
       "12            Pressure_Chievers             0.008542      0.008483   \n",
       "13       teenagerroom2_humidity             0.014721      0.014675   \n",
       "14                   Appliances             0.016353      0.015661   \n",
       "15    outsidebuilding _humidity             0.027540      0.028513   \n",
       "16          officeroom_humidity             0.028365      0.027785   \n",
       "17         ironingroom_humidity             0.032419      0.032362   \n",
       "18      ironingroom_temperature             0.033267      0.032998   \n",
       "19      parentsroom_temperature             0.051975      0.051370   \n",
       "20       officeroom_temperature             0.054198      0.053945   \n",
       "21    outside_humidity_Chievers             0.070894      0.058466   \n",
       "22          livingroom_humidity             0.079499      0.068902   \n",
       "23       livingroom_temperature             0.083595      0.075024   \n",
       "24                        T_out             0.097319      0.069372   \n",
       "\n",
       "    Lasso_Weight  \n",
       "0       0.000000  \n",
       "1       0.000000  \n",
       "2      -0.000000  \n",
       "3      -0.000000  \n",
       "4      -0.000000  \n",
       "5       0.000000  \n",
       "6      -0.000000  \n",
       "7      -0.000000  \n",
       "8       0.000000  \n",
       "9      -0.000000  \n",
       "10     -0.000000  \n",
       "11     -0.000000  \n",
       "12      0.000000  \n",
       "13      0.000000  \n",
       "14     -0.000000  \n",
       "15      0.005276  \n",
       "16      0.000000  \n",
       "17      0.000000  \n",
       "18      0.000000  \n",
       "19      0.000000  \n",
       "20      0.000000  \n",
       "21      0.008385  \n",
       "22      0.000000  \n",
       "23     -0.000000  \n",
       "24     -0.000000  "
      ]
     },
     "execution_count": 33,
     "metadata": {},
     "output_type": "execute_result"
    }
   ],
   "source": [
    "linear_model_weights = get_weights_df(linear_model, x_train, 'Linear_Model_Weight')\n",
    "ridge_weights_df = get_weights_df(ridge_reg, x_train, 'Ridge_Weight')\n",
    "lasso_weights_df = get_weights_df(lasso_reg, x_train, 'Lasso_Weight')\n",
    "\n",
    "final_weights = pd.merge(linear_model_weights, ridge_weights_df, on='Features')\n",
    "final_weights = pd.merge(final_weights, lasso_weights_df, on='Features')\n",
    "final_weights"
   ]
  },
  {
   "cell_type": "markdown",
   "metadata": {},
   "source": [
    "# Q. 17"
   ]
  },
  {
   "cell_type": "code",
   "execution_count": 34,
   "metadata": {},
   "outputs": [
    {
     "name": "stdout",
     "output_type": "stream",
     "text": [
      "0   -0.077631\n",
      "1   -0.050589\n",
      "2   -0.043675\n",
      "Name: Linear_Model_Weight, dtype: float64\n"
     ]
    }
   ],
   "source": [
    "linear_model_weights = get_weights_df(linear_model, x_train, 'Linear_Model_Weight')\n",
    "\n",
    "print(linear_model_weights.nsmallest(3,'Linear_Model_Weight' )['Linear_Model_Weight'])\n",
    "# the lowest and highest weights for linear model above is T6(outsidebuilding_teperature) and RH_4(officeroom_humidity)"
   ]
  },
  {
   "cell_type": "markdown",
   "metadata": {},
   "source": [
    "# Q. 18"
   ]
  },
  {
   "cell_type": "code",
   "execution_count": 35,
   "metadata": {},
   "outputs": [
    {
     "data": {
      "text/plain": [
       "Ridge(alpha=0.4, copy_X=True, fit_intercept=True, max_iter=None,\n",
       "      normalize=False, random_state=None, solver='auto', tol=0.001)"
      ]
     },
     "execution_count": 35,
     "metadata": {},
     "output_type": "execute_result"
    }
   ],
   "source": [
    "from sklearn.linear_model import Ridge\n",
    "\n",
    "ridge_reg = Ridge(0.4)\n",
    "ridge_reg.fit(x_train, y_train)"
   ]
  },
  {
   "cell_type": "code",
   "execution_count": 36,
   "metadata": {},
   "outputs": [
    {
     "data": {
      "text/plain": [
       "0.29"
      ]
     },
     "execution_count": 36,
     "metadata": {},
     "output_type": "execute_result"
    }
   ],
   "source": [
    "from sklearn.metrics import mean_squared_error\n",
    "rmse = np.sqrt(mean_squared_error(y_test, predicted_values))\n",
    "round(rmse, 3)"
   ]
  },
  {
   "cell_type": "markdown",
   "metadata": {},
   "source": [
    "# Q. 19"
   ]
  },
  {
   "cell_type": "code",
   "execution_count": 37,
   "metadata": {},
   "outputs": [
    {
     "data": {
      "text/plain": [
       "Lasso(alpha=0.001, copy_X=True, fit_intercept=True, max_iter=1000,\n",
       "      normalize=False, positive=False, precompute=False, random_state=None,\n",
       "      selection='cyclic', tol=0.0001, warm_start=False)"
      ]
     },
     "execution_count": 37,
     "metadata": {},
     "output_type": "execute_result"
    }
   ],
   "source": [
    "from sklearn.linear_model import Lasso\n",
    "\n",
    "lasso_reg = Lasso(alpha=0.001)\n",
    "lasso_reg.fit(x_train, y_train)"
   ]
  },
  {
   "cell_type": "code",
   "execution_count": 38,
   "metadata": {},
   "outputs": [
    {
     "data": {
      "text/html": [
       "<div>\n",
       "<style scoped>\n",
       "    .dataframe tbody tr th:only-of-type {\n",
       "        vertical-align: middle;\n",
       "    }\n",
       "\n",
       "    .dataframe tbody tr th {\n",
       "        vertical-align: top;\n",
       "    }\n",
       "\n",
       "    .dataframe thead th {\n",
       "        text-align: right;\n",
       "    }\n",
       "</style>\n",
       "<table border=\"1\" class=\"dataframe\">\n",
       "  <thead>\n",
       "    <tr style=\"text-align: right;\">\n",
       "      <th></th>\n",
       "      <th>Features</th>\n",
       "      <th>Linear_Model_Weight</th>\n",
       "      <th>Ridge_Weight</th>\n",
       "      <th>Lasso_Weight</th>\n",
       "    </tr>\n",
       "  </thead>\n",
       "  <tbody>\n",
       "    <tr>\n",
       "      <th>0</th>\n",
       "      <td>Tdewpoint_Chievers</td>\n",
       "      <td>-0.077631</td>\n",
       "      <td>-0.062550</td>\n",
       "      <td>0.000000</td>\n",
       "    </tr>\n",
       "    <tr>\n",
       "      <th>1</th>\n",
       "      <td>parentsroom_humidity</td>\n",
       "      <td>-0.050589</td>\n",
       "      <td>-0.049805</td>\n",
       "      <td>0.000000</td>\n",
       "    </tr>\n",
       "    <tr>\n",
       "      <th>2</th>\n",
       "      <td>bathroom_temperature</td>\n",
       "      <td>-0.043675</td>\n",
       "      <td>-0.041916</td>\n",
       "      <td>-0.000000</td>\n",
       "    </tr>\n",
       "    <tr>\n",
       "      <th>3</th>\n",
       "      <td>laundryroom_temperature</td>\n",
       "      <td>-0.041190</td>\n",
       "      <td>-0.040956</td>\n",
       "      <td>-0.000000</td>\n",
       "    </tr>\n",
       "    <tr>\n",
       "      <th>4</th>\n",
       "      <td>outsidebuilding_temperature</td>\n",
       "      <td>-0.040702</td>\n",
       "      <td>-0.035387</td>\n",
       "      <td>-0.000000</td>\n",
       "    </tr>\n",
       "    <tr>\n",
       "      <th>5</th>\n",
       "      <td>laundryroom_humidity</td>\n",
       "      <td>-0.040586</td>\n",
       "      <td>-0.039397</td>\n",
       "      <td>0.000000</td>\n",
       "    </tr>\n",
       "    <tr>\n",
       "      <th>6</th>\n",
       "      <td>bathroom_humidity</td>\n",
       "      <td>-0.040395</td>\n",
       "      <td>-0.040448</td>\n",
       "      <td>-0.000000</td>\n",
       "    </tr>\n",
       "    <tr>\n",
       "      <th>7</th>\n",
       "      <td>Kitchen_temperature</td>\n",
       "      <td>-0.039450</td>\n",
       "      <td>-0.035795</td>\n",
       "      <td>-0.000000</td>\n",
       "    </tr>\n",
       "    <tr>\n",
       "      <th>8</th>\n",
       "      <td>kitchen_humidity</td>\n",
       "      <td>-0.038484</td>\n",
       "      <td>-0.033447</td>\n",
       "      <td>0.000000</td>\n",
       "    </tr>\n",
       "    <tr>\n",
       "      <th>9</th>\n",
       "      <td>teenagerroom2_temperature</td>\n",
       "      <td>-0.034503</td>\n",
       "      <td>-0.034366</td>\n",
       "      <td>-0.000000</td>\n",
       "    </tr>\n",
       "    <tr>\n",
       "      <th>10</th>\n",
       "      <td>Visibility_Chievers</td>\n",
       "      <td>-0.011785</td>\n",
       "      <td>-0.011701</td>\n",
       "      <td>-0.000000</td>\n",
       "    </tr>\n",
       "    <tr>\n",
       "      <th>11</th>\n",
       "      <td>Wind_speed_Chievers</td>\n",
       "      <td>0.005453</td>\n",
       "      <td>0.004936</td>\n",
       "      <td>-0.000000</td>\n",
       "    </tr>\n",
       "    <tr>\n",
       "      <th>12</th>\n",
       "      <td>Pressure_Chievers</td>\n",
       "      <td>0.008542</td>\n",
       "      <td>0.008492</td>\n",
       "      <td>0.000000</td>\n",
       "    </tr>\n",
       "    <tr>\n",
       "      <th>13</th>\n",
       "      <td>teenagerroom2_humidity</td>\n",
       "      <td>0.014721</td>\n",
       "      <td>0.014701</td>\n",
       "      <td>0.000000</td>\n",
       "    </tr>\n",
       "    <tr>\n",
       "      <th>14</th>\n",
       "      <td>Appliances</td>\n",
       "      <td>0.016353</td>\n",
       "      <td>0.015784</td>\n",
       "      <td>-0.000000</td>\n",
       "    </tr>\n",
       "    <tr>\n",
       "      <th>15</th>\n",
       "      <td>outsidebuilding _humidity</td>\n",
       "      <td>0.027540</td>\n",
       "      <td>0.028364</td>\n",
       "      <td>0.005276</td>\n",
       "    </tr>\n",
       "    <tr>\n",
       "      <th>16</th>\n",
       "      <td>officeroom_humidity</td>\n",
       "      <td>0.028365</td>\n",
       "      <td>0.027894</td>\n",
       "      <td>0.000000</td>\n",
       "    </tr>\n",
       "    <tr>\n",
       "      <th>17</th>\n",
       "      <td>ironingroom_humidity</td>\n",
       "      <td>0.032419</td>\n",
       "      <td>0.032371</td>\n",
       "      <td>0.000000</td>\n",
       "    </tr>\n",
       "    <tr>\n",
       "      <th>18</th>\n",
       "      <td>ironingroom_temperature</td>\n",
       "      <td>0.033267</td>\n",
       "      <td>0.033054</td>\n",
       "      <td>0.000000</td>\n",
       "    </tr>\n",
       "    <tr>\n",
       "      <th>19</th>\n",
       "      <td>parentsroom_temperature</td>\n",
       "      <td>0.051975</td>\n",
       "      <td>0.051489</td>\n",
       "      <td>0.000000</td>\n",
       "    </tr>\n",
       "    <tr>\n",
       "      <th>20</th>\n",
       "      <td>officeroom_temperature</td>\n",
       "      <td>0.054198</td>\n",
       "      <td>0.053996</td>\n",
       "      <td>0.000000</td>\n",
       "    </tr>\n",
       "    <tr>\n",
       "      <th>21</th>\n",
       "      <td>outside_humidity_Chievers</td>\n",
       "      <td>0.070894</td>\n",
       "      <td>0.060435</td>\n",
       "      <td>0.008385</td>\n",
       "    </tr>\n",
       "    <tr>\n",
       "      <th>22</th>\n",
       "      <td>livingroom_humidity</td>\n",
       "      <td>0.079499</td>\n",
       "      <td>0.070765</td>\n",
       "      <td>0.000000</td>\n",
       "    </tr>\n",
       "    <tr>\n",
       "      <th>23</th>\n",
       "      <td>livingroom_temperature</td>\n",
       "      <td>0.083595</td>\n",
       "      <td>0.076532</td>\n",
       "      <td>-0.000000</td>\n",
       "    </tr>\n",
       "    <tr>\n",
       "      <th>24</th>\n",
       "      <td>T_out</td>\n",
       "      <td>0.097319</td>\n",
       "      <td>0.073841</td>\n",
       "      <td>-0.000000</td>\n",
       "    </tr>\n",
       "  </tbody>\n",
       "</table>\n",
       "</div>"
      ],
      "text/plain": [
       "                       Features  Linear_Model_Weight  Ridge_Weight  \\\n",
       "0            Tdewpoint_Chievers            -0.077631     -0.062550   \n",
       "1          parentsroom_humidity            -0.050589     -0.049805   \n",
       "2          bathroom_temperature            -0.043675     -0.041916   \n",
       "3       laundryroom_temperature            -0.041190     -0.040956   \n",
       "4   outsidebuilding_temperature            -0.040702     -0.035387   \n",
       "5          laundryroom_humidity            -0.040586     -0.039397   \n",
       "6             bathroom_humidity            -0.040395     -0.040448   \n",
       "7           Kitchen_temperature            -0.039450     -0.035795   \n",
       "8              kitchen_humidity            -0.038484     -0.033447   \n",
       "9     teenagerroom2_temperature            -0.034503     -0.034366   \n",
       "10          Visibility_Chievers            -0.011785     -0.011701   \n",
       "11          Wind_speed_Chievers             0.005453      0.004936   \n",
       "12            Pressure_Chievers             0.008542      0.008492   \n",
       "13       teenagerroom2_humidity             0.014721      0.014701   \n",
       "14                   Appliances             0.016353      0.015784   \n",
       "15    outsidebuilding _humidity             0.027540      0.028364   \n",
       "16          officeroom_humidity             0.028365      0.027894   \n",
       "17         ironingroom_humidity             0.032419      0.032371   \n",
       "18      ironingroom_temperature             0.033267      0.033054   \n",
       "19      parentsroom_temperature             0.051975      0.051489   \n",
       "20       officeroom_temperature             0.054198      0.053996   \n",
       "21    outside_humidity_Chievers             0.070894      0.060435   \n",
       "22          livingroom_humidity             0.079499      0.070765   \n",
       "23       livingroom_temperature             0.083595      0.076532   \n",
       "24                        T_out             0.097319      0.073841   \n",
       "\n",
       "    Lasso_Weight  \n",
       "0       0.000000  \n",
       "1       0.000000  \n",
       "2      -0.000000  \n",
       "3      -0.000000  \n",
       "4      -0.000000  \n",
       "5       0.000000  \n",
       "6      -0.000000  \n",
       "7      -0.000000  \n",
       "8       0.000000  \n",
       "9      -0.000000  \n",
       "10     -0.000000  \n",
       "11     -0.000000  \n",
       "12      0.000000  \n",
       "13      0.000000  \n",
       "14     -0.000000  \n",
       "15      0.005276  \n",
       "16      0.000000  \n",
       "17      0.000000  \n",
       "18      0.000000  \n",
       "19      0.000000  \n",
       "20      0.000000  \n",
       "21      0.008385  \n",
       "22      0.000000  \n",
       "23     -0.000000  \n",
       "24     -0.000000  "
      ]
     },
     "execution_count": 38,
     "metadata": {},
     "output_type": "execute_result"
    }
   ],
   "source": [
    "linear_model_weights = get_weights_df(linear_model, x_train, 'Linear_Model_Weight')\n",
    "ridge_weights_df = get_weights_df(ridge_reg, x_train, 'Ridge_Weight')\n",
    "lasso_weights_df = get_weights_df(lasso_reg, x_train, 'Lasso_Weight')\n",
    "\n",
    "final_weights = pd.merge(linear_model_weights, ridge_weights_df, on='Features')\n",
    "final_weights = pd.merge(final_weights, lasso_weights_df, on='Features')\n",
    "final_weights"
   ]
  },
  {
   "cell_type": "markdown",
   "metadata": {},
   "source": [
    "# Q. 20"
   ]
  },
  {
   "cell_type": "code",
   "execution_count": 39,
   "metadata": {},
   "outputs": [
    {
     "data": {
      "text/plain": [
       "0.29"
      ]
     },
     "execution_count": 39,
     "metadata": {},
     "output_type": "execute_result"
    }
   ],
   "source": [
    "from sklearn.metrics import mean_squared_error\n",
    "rmse = np.sqrt(mean_squared_error(y_test, predicted_values))\n",
    "round(rmse, 3)"
   ]
  },
  {
   "cell_type": "code",
   "execution_count": null,
   "metadata": {},
   "outputs": [],
   "source": []
  }
 ],
 "metadata": {
  "kernelspec": {
   "display_name": "Python 3",
   "language": "python",
   "name": "python3"
  },
  "language_info": {
   "codemirror_mode": {
    "name": "ipython",
    "version": 3
   },
   "file_extension": ".py",
   "mimetype": "text/x-python",
   "name": "python",
   "nbconvert_exporter": "python",
   "pygments_lexer": "ipython3",
   "version": "3.7.6"
  }
 },
 "nbformat": 4,
 "nbformat_minor": 4
}
